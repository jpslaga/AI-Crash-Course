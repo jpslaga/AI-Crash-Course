{
  "nbformat": 4,
  "nbformat_minor": 0,
  "metadata": {
    "colab": {
      "name": "keras_demo.ipynb",
      "provenance": [],
      "include_colab_link": true
    },
    "kernelspec": {
      "name": "python3",
      "display_name": "Python 3"
    }
  },
  "cells": [
    {
      "cell_type": "markdown",
      "metadata": {
        "id": "view-in-github",
        "colab_type": "text"
      },
      "source": [
        "<a href=\"https://colab.research.google.com/github/jpslaga/AI-Crash-Course/blob/master/keras_demo.ipynb\" target=\"_parent\"><img src=\"https://colab.research.google.com/assets/colab-badge.svg\" alt=\"Open In Colab\"/></a>"
      ]
    },
    {
      "cell_type": "markdown",
      "metadata": {
        "id": "qTruGnVGJnBa",
        "colab_type": "text"
      },
      "source": [
        "###Imports\n",
        "In Python we start by importing modules. These modules have to be properly loaded on your Python processing machine. Google's colab.research.google.com website handles these dependencies for us. "
      ]
    },
    {
      "cell_type": "code",
      "metadata": {
        "id": "7hHVRTZDI7J3",
        "colab_type": "code",
        "colab": {
          "base_uri": "https://localhost:8080/",
          "height": 119
        },
        "outputId": "9e8d4630-0b60-4115-ca17-53ed1d140648"
      },
      "source": [
        "!pip install mnist\n",
        "import pandas as pd\n",
        "import numpy as np\n",
        "import mnist\n",
        "import keras"
      ],
      "execution_count": 1,
      "outputs": [
        {
          "output_type": "stream",
          "text": [
            "Collecting mnist\n",
            "  Downloading https://files.pythonhosted.org/packages/c6/c4/5db3bfe009f8d71f1d532bbadbd0ec203764bba3a469e4703a889db8e5e0/mnist-0.2.2-py2.py3-none-any.whl\n",
            "Requirement already satisfied: numpy in /usr/local/lib/python3.6/dist-packages (from mnist) (1.18.5)\n",
            "Installing collected packages: mnist\n",
            "Successfully installed mnist-0.2.2\n"
          ],
          "name": "stdout"
        },
        {
          "output_type": "stream",
          "text": [
            "Using TensorFlow backend.\n"
          ],
          "name": "stderr"
        }
      ]
    },
    {
      "cell_type": "markdown",
      "metadata": {
        "id": "1zMNYPMUKBDB",
        "colab_type": "text"
      },
      "source": [
        "### Datasets\n",
        "The `mnist` module downloads the 'MNIST' database. The MNIST database (Modified National Institute of Standards and Technology database) is a large database of 600,000 handwritten digits that is commonly used for training various image processing systems, that's why it's so easy to get. \n",
        "- The images are stored as an array of grayscale values from 0-255. They are returned by `mnist.train_images()`.\n",
        "- The images are labeled with integers in a list returned by `mnist.train_labels()`\n",
        "- By default, there is a completely separate dataset for testing your trained machine learning tool, `mnist.test_images()` and `mnist.test_labels()`.\n",
        "- There are 60,000 training images and 10,000 test images, formatted identically."
      ]
    },
    {
      "cell_type": "code",
      "metadata": {
        "id": "0HNSjuALJXao",
        "colab_type": "code",
        "colab": {
          "base_uri": "https://localhost:8080/",
          "height": 34
        },
        "outputId": "f632a6e6-e36d-40ad-a004-7be3f7491f2c"
      },
      "source": [
        "train_images = mnist.train_images() #len: 60000\n",
        "train_labels = mnist.train_labels() #len: 60000\n",
        "test_images = mnist.test_images() #len: 10000\n",
        "test_labels = mnist.test_labels() #len: 10000\n",
        "type(train_images)# <class 'numpy.ndarray'>"
      ],
      "execution_count": 2,
      "outputs": [
        {
          "output_type": "execute_result",
          "data": {
            "text/plain": [
              "numpy.ndarray"
            ]
          },
          "metadata": {
            "tags": []
          },
          "execution_count": 2
        }
      ]
    },
    {
      "cell_type": "code",
      "metadata": {
        "id": "p9FWkLRNJZoQ",
        "colab_type": "code",
        "colab": {
          "base_uri": "https://localhost:8080/",
          "height": 51
        },
        "outputId": "354efa2d-b90b-4ea6-e57a-e640d994ca99"
      },
      "source": [
        "print(train_images.shape) # (60000, 28, 28)\n",
        "print(train_labels.shape) # (60000,)"
      ],
      "execution_count": 3,
      "outputs": [
        {
          "output_type": "stream",
          "text": [
            "(60000, 28, 28)\n",
            "(60000,)\n"
          ],
          "name": "stdout"
        }
      ]
    },
    {
      "cell_type": "markdown",
      "metadata": {
        "id": "75pLkc9EJgx5",
        "colab_type": "text"
      },
      "source": [
        "We want to see the numbers, so we can start by pulling the 0-255 values array directly. Since `train_images` is a long list, you can select one member of it with an index, like `first_image=train_images[0]`. The array you get back is the data representation of the pixel scan of the handwritten digits. This looks visually like there is some sort of structured image here, but it's difficult to read directly. Worse, it's doing a linewrap and we don't even see it presented as pixels."
      ]
    },
    {
      "cell_type": "code",
      "metadata": {
        "id": "aG_qe1KSJcnB",
        "colab_type": "code",
        "colab": {
          "base_uri": "https://localhost:8080/",
          "height": 1000
        },
        "outputId": "2ffd2bbc-2539-4b03-971f-3a0d02d3ae39"
      },
      "source": [
        "first_image = train_images[0]\n",
        "first_image"
      ],
      "execution_count": 4,
      "outputs": [
        {
          "output_type": "execute_result",
          "data": {
            "text/plain": [
              "array([[  0,   0,   0,   0,   0,   0,   0,   0,   0,   0,   0,   0,   0,\n",
              "          0,   0,   0,   0,   0,   0,   0,   0,   0,   0,   0,   0,   0,\n",
              "          0,   0],\n",
              "       [  0,   0,   0,   0,   0,   0,   0,   0,   0,   0,   0,   0,   0,\n",
              "          0,   0,   0,   0,   0,   0,   0,   0,   0,   0,   0,   0,   0,\n",
              "          0,   0],\n",
              "       [  0,   0,   0,   0,   0,   0,   0,   0,   0,   0,   0,   0,   0,\n",
              "          0,   0,   0,   0,   0,   0,   0,   0,   0,   0,   0,   0,   0,\n",
              "          0,   0],\n",
              "       [  0,   0,   0,   0,   0,   0,   0,   0,   0,   0,   0,   0,   0,\n",
              "          0,   0,   0,   0,   0,   0,   0,   0,   0,   0,   0,   0,   0,\n",
              "          0,   0],\n",
              "       [  0,   0,   0,   0,   0,   0,   0,   0,   0,   0,   0,   0,   0,\n",
              "          0,   0,   0,   0,   0,   0,   0,   0,   0,   0,   0,   0,   0,\n",
              "          0,   0],\n",
              "       [  0,   0,   0,   0,   0,   0,   0,   0,   0,   0,   0,   0,   3,\n",
              "         18,  18,  18, 126, 136, 175,  26, 166, 255, 247, 127,   0,   0,\n",
              "          0,   0],\n",
              "       [  0,   0,   0,   0,   0,   0,   0,   0,  30,  36,  94, 154, 170,\n",
              "        253, 253, 253, 253, 253, 225, 172, 253, 242, 195,  64,   0,   0,\n",
              "          0,   0],\n",
              "       [  0,   0,   0,   0,   0,   0,   0,  49, 238, 253, 253, 253, 253,\n",
              "        253, 253, 253, 253, 251,  93,  82,  82,  56,  39,   0,   0,   0,\n",
              "          0,   0],\n",
              "       [  0,   0,   0,   0,   0,   0,   0,  18, 219, 253, 253, 253, 253,\n",
              "        253, 198, 182, 247, 241,   0,   0,   0,   0,   0,   0,   0,   0,\n",
              "          0,   0],\n",
              "       [  0,   0,   0,   0,   0,   0,   0,   0,  80, 156, 107, 253, 253,\n",
              "        205,  11,   0,  43, 154,   0,   0,   0,   0,   0,   0,   0,   0,\n",
              "          0,   0],\n",
              "       [  0,   0,   0,   0,   0,   0,   0,   0,   0,  14,   1, 154, 253,\n",
              "         90,   0,   0,   0,   0,   0,   0,   0,   0,   0,   0,   0,   0,\n",
              "          0,   0],\n",
              "       [  0,   0,   0,   0,   0,   0,   0,   0,   0,   0,   0, 139, 253,\n",
              "        190,   2,   0,   0,   0,   0,   0,   0,   0,   0,   0,   0,   0,\n",
              "          0,   0],\n",
              "       [  0,   0,   0,   0,   0,   0,   0,   0,   0,   0,   0,  11, 190,\n",
              "        253,  70,   0,   0,   0,   0,   0,   0,   0,   0,   0,   0,   0,\n",
              "          0,   0],\n",
              "       [  0,   0,   0,   0,   0,   0,   0,   0,   0,   0,   0,   0,  35,\n",
              "        241, 225, 160, 108,   1,   0,   0,   0,   0,   0,   0,   0,   0,\n",
              "          0,   0],\n",
              "       [  0,   0,   0,   0,   0,   0,   0,   0,   0,   0,   0,   0,   0,\n",
              "         81, 240, 253, 253, 119,  25,   0,   0,   0,   0,   0,   0,   0,\n",
              "          0,   0],\n",
              "       [  0,   0,   0,   0,   0,   0,   0,   0,   0,   0,   0,   0,   0,\n",
              "          0,  45, 186, 253, 253, 150,  27,   0,   0,   0,   0,   0,   0,\n",
              "          0,   0],\n",
              "       [  0,   0,   0,   0,   0,   0,   0,   0,   0,   0,   0,   0,   0,\n",
              "          0,   0,  16,  93, 252, 253, 187,   0,   0,   0,   0,   0,   0,\n",
              "          0,   0],\n",
              "       [  0,   0,   0,   0,   0,   0,   0,   0,   0,   0,   0,   0,   0,\n",
              "          0,   0,   0,   0, 249, 253, 249,  64,   0,   0,   0,   0,   0,\n",
              "          0,   0],\n",
              "       [  0,   0,   0,   0,   0,   0,   0,   0,   0,   0,   0,   0,   0,\n",
              "          0,  46, 130, 183, 253, 253, 207,   2,   0,   0,   0,   0,   0,\n",
              "          0,   0],\n",
              "       [  0,   0,   0,   0,   0,   0,   0,   0,   0,   0,   0,   0,  39,\n",
              "        148, 229, 253, 253, 253, 250, 182,   0,   0,   0,   0,   0,   0,\n",
              "          0,   0],\n",
              "       [  0,   0,   0,   0,   0,   0,   0,   0,   0,   0,  24, 114, 221,\n",
              "        253, 253, 253, 253, 201,  78,   0,   0,   0,   0,   0,   0,   0,\n",
              "          0,   0],\n",
              "       [  0,   0,   0,   0,   0,   0,   0,   0,  23,  66, 213, 253, 253,\n",
              "        253, 253, 198,  81,   2,   0,   0,   0,   0,   0,   0,   0,   0,\n",
              "          0,   0],\n",
              "       [  0,   0,   0,   0,   0,   0,  18, 171, 219, 253, 253, 253, 253,\n",
              "        195,  80,   9,   0,   0,   0,   0,   0,   0,   0,   0,   0,   0,\n",
              "          0,   0],\n",
              "       [  0,   0,   0,   0,  55, 172, 226, 253, 253, 253, 253, 244, 133,\n",
              "         11,   0,   0,   0,   0,   0,   0,   0,   0,   0,   0,   0,   0,\n",
              "          0,   0],\n",
              "       [  0,   0,   0,   0, 136, 253, 253, 253, 212, 135, 132,  16,   0,\n",
              "          0,   0,   0,   0,   0,   0,   0,   0,   0,   0,   0,   0,   0,\n",
              "          0,   0],\n",
              "       [  0,   0,   0,   0,   0,   0,   0,   0,   0,   0,   0,   0,   0,\n",
              "          0,   0,   0,   0,   0,   0,   0,   0,   0,   0,   0,   0,   0,\n",
              "          0,   0],\n",
              "       [  0,   0,   0,   0,   0,   0,   0,   0,   0,   0,   0,   0,   0,\n",
              "          0,   0,   0,   0,   0,   0,   0,   0,   0,   0,   0,   0,   0,\n",
              "          0,   0],\n",
              "       [  0,   0,   0,   0,   0,   0,   0,   0,   0,   0,   0,   0,   0,\n",
              "          0,   0,   0,   0,   0,   0,   0,   0,   0,   0,   0,   0,   0,\n",
              "          0,   0]], dtype=uint8)"
            ]
          },
          "metadata": {
            "tags": []
          },
          "execution_count": 4
        }
      ]
    },
    {
      "cell_type": "markdown",
      "metadata": {
        "id": "4rQ93_R8MtIM",
        "colab_type": "text"
      },
      "source": [
        "We can print wide by setting `numpy.set_printoptions()` to a wide linewidth and printing again - now it looks kind of like a 5, but backwards."
      ]
    },
    {
      "cell_type": "code",
      "metadata": {
        "id": "RsW4uGT3L7g6",
        "colab_type": "code",
        "colab": {
          "base_uri": "https://localhost:8080/",
          "height": 493
        },
        "outputId": "5eaa128d-0ffc-463a-8a08-cbebf429a792"
      },
      "source": [
        " np.set_printoptions(linewidth=400)\n",
        "print(first_image)"
      ],
      "execution_count": 5,
      "outputs": [
        {
          "output_type": "stream",
          "text": [
            "[[  0   0   0   0   0   0   0   0   0   0   0   0   0   0   0   0   0   0   0   0   0   0   0   0   0   0   0   0]\n",
            " [  0   0   0   0   0   0   0   0   0   0   0   0   0   0   0   0   0   0   0   0   0   0   0   0   0   0   0   0]\n",
            " [  0   0   0   0   0   0   0   0   0   0   0   0   0   0   0   0   0   0   0   0   0   0   0   0   0   0   0   0]\n",
            " [  0   0   0   0   0   0   0   0   0   0   0   0   0   0   0   0   0   0   0   0   0   0   0   0   0   0   0   0]\n",
            " [  0   0   0   0   0   0   0   0   0   0   0   0   0   0   0   0   0   0   0   0   0   0   0   0   0   0   0   0]\n",
            " [  0   0   0   0   0   0   0   0   0   0   0   0   3  18  18  18 126 136 175  26 166 255 247 127   0   0   0   0]\n",
            " [  0   0   0   0   0   0   0   0  30  36  94 154 170 253 253 253 253 253 225 172 253 242 195  64   0   0   0   0]\n",
            " [  0   0   0   0   0   0   0  49 238 253 253 253 253 253 253 253 253 251  93  82  82  56  39   0   0   0   0   0]\n",
            " [  0   0   0   0   0   0   0  18 219 253 253 253 253 253 198 182 247 241   0   0   0   0   0   0   0   0   0   0]\n",
            " [  0   0   0   0   0   0   0   0  80 156 107 253 253 205  11   0  43 154   0   0   0   0   0   0   0   0   0   0]\n",
            " [  0   0   0   0   0   0   0   0   0  14   1 154 253  90   0   0   0   0   0   0   0   0   0   0   0   0   0   0]\n",
            " [  0   0   0   0   0   0   0   0   0   0   0 139 253 190   2   0   0   0   0   0   0   0   0   0   0   0   0   0]\n",
            " [  0   0   0   0   0   0   0   0   0   0   0  11 190 253  70   0   0   0   0   0   0   0   0   0   0   0   0   0]\n",
            " [  0   0   0   0   0   0   0   0   0   0   0   0  35 241 225 160 108   1   0   0   0   0   0   0   0   0   0   0]\n",
            " [  0   0   0   0   0   0   0   0   0   0   0   0   0  81 240 253 253 119  25   0   0   0   0   0   0   0   0   0]\n",
            " [  0   0   0   0   0   0   0   0   0   0   0   0   0   0  45 186 253 253 150  27   0   0   0   0   0   0   0   0]\n",
            " [  0   0   0   0   0   0   0   0   0   0   0   0   0   0   0  16  93 252 253 187   0   0   0   0   0   0   0   0]\n",
            " [  0   0   0   0   0   0   0   0   0   0   0   0   0   0   0   0   0 249 253 249  64   0   0   0   0   0   0   0]\n",
            " [  0   0   0   0   0   0   0   0   0   0   0   0   0   0  46 130 183 253 253 207   2   0   0   0   0   0   0   0]\n",
            " [  0   0   0   0   0   0   0   0   0   0   0   0  39 148 229 253 253 253 250 182   0   0   0   0   0   0   0   0]\n",
            " [  0   0   0   0   0   0   0   0   0   0  24 114 221 253 253 253 253 201  78   0   0   0   0   0   0   0   0   0]\n",
            " [  0   0   0   0   0   0   0   0  23  66 213 253 253 253 253 198  81   2   0   0   0   0   0   0   0   0   0   0]\n",
            " [  0   0   0   0   0   0  18 171 219 253 253 253 253 195  80   9   0   0   0   0   0   0   0   0   0   0   0   0]\n",
            " [  0   0   0   0  55 172 226 253 253 253 253 244 133  11   0   0   0   0   0   0   0   0   0   0   0   0   0   0]\n",
            " [  0   0   0   0 136 253 253 253 212 135 132  16   0   0   0   0   0   0   0   0   0   0   0   0   0   0   0   0]\n",
            " [  0   0   0   0   0   0   0   0   0   0   0   0   0   0   0   0   0   0   0   0   0   0   0   0   0   0   0   0]\n",
            " [  0   0   0   0   0   0   0   0   0   0   0   0   0   0   0   0   0   0   0   0   0   0   0   0   0   0   0   0]\n",
            " [  0   0   0   0   0   0   0   0   0   0   0   0   0   0   0   0   0   0   0   0   0   0   0   0   0   0   0   0]]\n"
          ],
          "name": "stdout"
        }
      ]
    },
    {
      "cell_type": "markdown",
      "metadata": {
        "id": "b-mKTEbKM8T6",
        "colab_type": "text"
      },
      "source": [
        "Since the values are labeled in the `train_labels` object, we can select from the `train_labels` object using the same index: the label for `train_images[0]` is `train_labels[0]`:"
      ]
    },
    {
      "cell_type": "code",
      "metadata": {
        "id": "Nh9J6YCwOJoO",
        "colab_type": "code",
        "colab": {
          "base_uri": "https://localhost:8080/",
          "height": 34
        },
        "outputId": "15ad4c8e-9256-48f7-9278-489f9d401e30"
      },
      "source": [
        "train_labels[0]"
      ],
      "execution_count": 6,
      "outputs": [
        {
          "output_type": "execute_result",
          "data": {
            "text/plain": [
              "5"
            ]
          },
          "metadata": {
            "tags": []
          },
          "execution_count": 6
        }
      ]
    },
    {
      "cell_type": "markdown",
      "metadata": {
        "id": "iGS5kKZPOP5R",
        "colab_type": "text"
      },
      "source": [
        "An ugly 5 that prints in numbers backwards isn't very nice, we want to print what they should look like. So I'll import `matplotlib` and use that to plot that array, assigning each pixel a grayscale color and plotting that."
      ]
    },
    {
      "cell_type": "code",
      "metadata": {
        "id": "A9_sS0R2OLVo",
        "colab_type": "code",
        "colab": {}
      },
      "source": [
        "import matplotlib.pyplot as plt"
      ],
      "execution_count": 7,
      "outputs": []
    },
    {
      "cell_type": "code",
      "metadata": {
        "id": "bshwL274OdBY",
        "colab_type": "code",
        "colab": {}
      },
      "source": [
        "#https://stackoverflow.com/questions/42353676/display-mnist-image-using-matplotlib\n",
        "def print_mnist_image(image):\n",
        "    # image = np.array(image, dtype='float')\n",
        "    # pixels = image.reshape((28, 28))\n",
        "    pixels=image\n",
        "    plt.imshow(pixels, cmap='gray_r')#cmap='gray' will read images inverted \n",
        "    plt.show()\n",
        "    plt.close()"
      ],
      "execution_count": 8,
      "outputs": []
    },
    {
      "cell_type": "code",
      "metadata": {
        "id": "uh3c6HjXOh8Q",
        "colab_type": "code",
        "colab": {
          "base_uri": "https://localhost:8080/",
          "height": 265
        },
        "outputId": "ad06f2ad-68e7-4b45-82ca-c0a9454cde45"
      },
      "source": [
        "print_mnist_image(first_image)"
      ],
      "execution_count": 9,
      "outputs": [
        {
          "output_type": "display_data",
          "data": {
            "image/png": "[encoded data removed]",
            "text/plain": [
              "<Figure size 432x288 with 1 Axes>"
            ]
          },
          "metadata": {
            "tags": [],
            "needs_background": "light"
          }
        }
      ]
    },
    {
      "cell_type": "code",
      "metadata": {
        "id": "hqEa6MlIOi6P",
        "colab_type": "code",
        "colab": {
          "base_uri": "https://localhost:8080/",
          "height": 547
        },
        "outputId": "6885d204-7c28-4c40-ac1d-3cf59d2c9a88"
      },
      "source": [
        "print_mnist_image(train_images[1])\n",
        "print(\"Label:\",train_labels[1])\n",
        "print_mnist_image(train_images[2])\n",
        "print(\"Label:\",train_labels[2])\n"
      ],
      "execution_count": 10,
      "outputs": [
        {
          "output_type": "display_data",
          "data": {
            "image/png": "[encoded data removed]",
            "text/plain": [
              "<Figure size 432x288 with 1 Axes>"
            ]
          },
          "metadata": {
            "tags": [],
            "needs_background": "light"
          }
        },
        {
          "output_type": "stream",
          "text": [
            "Label: 0\n"
          ],
          "name": "stdout"
        },
        {
          "output_type": "display_data",
          "data": {
            "image/png": "[encoded data removed]",
            "text/plain": [
              "<Figure size 432x288 with 1 Axes>"
            ]
          },
          "metadata": {
            "tags": [],
            "needs_background": "light"
          }
        },
        {
          "output_type": "stream",
          "text": [
            "Label: 4\n"
          ],
          "name": "stdout"
        }
      ]
    },
    {
      "cell_type": "markdown",
      "metadata": {
        "id": "pjw20pujO71Z",
        "colab_type": "text"
      },
      "source": [
        "So you can just chain the index for both together in a loop, and run down an index. `for index in range(0,5)` gives a list of numbers from 0-4 which it can iterate down. Then we put that index into the `train_images` and the `train_labels` objects separately, and print them together in sequence."
      ]
    },
    {
      "cell_type": "code",
      "metadata": {
        "id": "yvwjb35eOlBo",
        "colab_type": "code",
        "colab": {
          "base_uri": "https://localhost:8080/",
          "height": 1000
        },
        "outputId": "81de61ae-1bbd-46d6-8b58-3f46b239d066"
      },
      "source": [
        "for index in range(0,5):\n",
        "    image=train_images[index]\n",
        "    label=train_labels[index]\n",
        "    print(label)\n",
        "    print_mnist_image(image)\n"
      ],
      "execution_count": 11,
      "outputs": [
        {
          "output_type": "stream",
          "text": [
            "5\n"
          ],
          "name": "stdout"
        },
        {
          "output_type": "display_data",
          "data": {
            "image/png": "[encoded data removed]",
            "text/plain": [
              "<Figure size 432x288 with 1 Axes>"
            ]
          },
          "metadata": {
            "tags": [],
            "needs_background": "light"
          }
        },
        {
          "output_type": "stream",
          "text": [
            "0\n"
          ],
          "name": "stdout"
        },
        {
          "output_type": "display_data",
          "data": {
            "image/png": "[encoded data removed]",
            "text/plain": [
              "<Figure size 432x288 with 1 Axes>"
            ]
          },
          "metadata": {
            "tags": [],
            "needs_background": "light"
          }
        },
        {
          "output_type": "stream",
          "text": [
            "4\n"
          ],
          "name": "stdout"
        },
        {
          "output_type": "display_data",
          "data": {
            "image/png": "[encoded data removed]",
            "text/plain": [
              "<Figure size 432x288 with 1 Axes>"
            ]
          },
          "metadata": {
            "tags": [],
            "needs_background": "light"
          }
        },
        {
          "output_type": "stream",
          "text": [
            "1\n"
          ],
          "name": "stdout"
        },
        {
          "output_type": "display_data",
          "data": {
            "image/png": "[encoded data removed]",
            "text/plain": [
              "<Figure size 432x288 with 1 Axes>"
            ]
          },
          "metadata": {
            "tags": [],
            "needs_background": "light"
          }
        },
        {
          "output_type": "stream",
          "text": [
            "9\n"
          ],
          "name": "stdout"
        },
        {
          "output_type": "display_data",
          "data": {
            "image/png": "[encoded data removed]",
            "text/plain": [
              "<Figure size 432x288 with 1 Axes>"
            ]
          },
          "metadata": {
            "tags": [],
            "needs_background": "light"
          }
        }
      ]
    },
    {
      "cell_type": "markdown",
      "metadata": {
        "id": "69B4wqegPQhQ",
        "colab_type": "text"
      },
      "source": [
        "### Normalize the images.\n",
        "'Artificial Neural Networks seem to learn best when they have small, centered values' - Victor Zhou. So we convert the grayscale with max pixels = 255 to ratio, then subtract 0.5 to center the ratio at 0.\n"
      ]
    },
    {
      "cell_type": "code",
      "metadata": {
        "id": "TkbsTyyQO2mY",
        "colab_type": "code",
        "colab": {}
      },
      "source": [
        "n_train_images = (train_images / 255) - 0.5\n",
        "n_test_images = (test_images / 255) - 0.5"
      ],
      "execution_count": 12,
      "outputs": []
    },
    {
      "cell_type": "markdown",
      "metadata": {
        "id": "dSyV7iVZPZ7c",
        "colab_type": "text"
      },
      "source": [
        "### Flatten the images.\n",
        "Artificial neural networks are a flattened, 2-D model, so they require a 1-D input. Using the `.reshape()` method from earlier. This method works the same way on any numpy.ndarray object\n"
      ]
    },
    {
      "cell_type": "code",
      "metadata": {
        "id": "9WVUxl-qPWsv",
        "colab_type": "code",
        "colab": {}
      },
      "source": [
        "f_train_images = n_train_images.reshape((-1, 784))\n",
        "f_test_images = n_test_images.reshape((-1, 784))"
      ],
      "execution_count": 13,
      "outputs": []
    },
    {
      "cell_type": "markdown",
      "metadata": {
        "id": "Wi8YJnroPhsa",
        "colab_type": "text"
      },
      "source": [
        "The above didn't change the length (60000) but htey changed the shape to 784*1"
      ]
    },
    {
      "cell_type": "code",
      "metadata": {
        "id": "r0tC6b6_Pflh",
        "colab_type": "code",
        "colab": {
          "base_uri": "https://localhost:8080/",
          "height": 0
        },
        "outputId": "c65cd40d-5e33-4177-a836-94b12d33803d"
      },
      "source": [
        "print(f_train_images.shape) # (60000, 784)\n",
        "print(f_test_images.shape)  # (10000, 784)"
      ],
      "execution_count": 14,
      "outputs": [
        {
          "output_type": "stream",
          "text": [
            "(60000, 784)\n",
            "(10000, 784)\n"
          ],
          "name": "stdout"
        }
      ]
    },
    {
      "cell_type": "markdown",
      "metadata": {
        "id": "sJsRevQWPm4p",
        "colab_type": "text"
      },
      "source": [
        "### BUILD THE MODEL \n",
        "'Every Keras model is either built using the Sequential class, which represents a linear stack of layers, or the functional Model class, which is more customizeable. We’ll be using the simpler Sequential model, since our network is indeed a linear stack of layers.' - Victor Zhou\n",
        "Keras has functions to easily construct an artificial neural network:\n",
        "- `from keras.models import Sequential` - the model holder. Sequential accepts a list of layers objects, like [dense_layer_1, dense_layer_2, conclusion_layer]\n",
        "\n",
        "- `from keras.layers import Dense` - the layer object. Accepts args for number of nodes in layer, activation algorithm, and input_shape.\n",
        "\n",
        "Keras has very well developed docstrings which are practically tutorials. You can access a module or function's docstring like `print(function.__doc__)`\n"
      ]
    },
    {
      "cell_type": "code",
      "metadata": {
        "id": "VCALGkftQBZ_",
        "colab_type": "code",
        "colab": {}
      },
      "source": [
        "from keras.models import Sequential #the model holder. Sequential accepts a list of layers objects, like [dense_layer_1, dense_layer_2, conclusion_layer]\n",
        "from keras.layers import Dense #the layer object. Accepts args for number of nodes in layer, activation algorithm, and input_shape for "
      ],
      "execution_count": 15,
      "outputs": []
    },
    {
      "cell_type": "code",
      "metadata": {
        "id": "vGHDY37EPk2Y",
        "colab_type": "code",
        "colab": {
          "base_uri": "https://localhost:8080/",
          "height": 0
        },
        "outputId": "04890b2b-3109-4552-e3b7-e4a7f8e32a8b"
      },
      "source": [
        "print(Sequential.__doc__)"
      ],
      "execution_count": 16,
      "outputs": [
        {
          "output_type": "stream",
          "text": [
            "Linear stack of layers.\n",
            "\n",
            "    # Arguments\n",
            "        layers: list of layers to add to the model.\n",
            "        name: Name given to the model\n",
            "\n",
            "    # Example\n",
            "\n",
            "    ```python\n",
            "    # Optionally, the first layer can receive an `input_shape` argument:\n",
            "    model = Sequential()\n",
            "    model.add(Dense(32, input_shape=(500,)))\n",
            "\n",
            "    # Afterwards, we do automatic shape inference:\n",
            "    model.add(Dense(32))\n",
            "\n",
            "    # This is identical to the following:\n",
            "    model = Sequential()\n",
            "    model.add(Dense(32, input_dim=500))\n",
            "\n",
            "    # And to the following:\n",
            "    model = Sequential()\n",
            "    model.add(Dense(32, batch_input_shape=(None, 500)))\n",
            "\n",
            "    # Note that you can also omit the `input_shape` argument:\n",
            "    # In that case the model gets built the first time you call `fit` (or other\n",
            "    # training and evaluation methods).\n",
            "    model = Sequential()\n",
            "    model.add(Dense(32))\n",
            "    model.add(Dense(32))\n",
            "    model.compile(optimizer=optimizer, loss=loss)\n",
            "\n",
            "    # This builds the model for the first time:\n",
            "    model.fit(x, y, batch_size=32, epochs=10)\n",
            "\n",
            "    # Note that when using this delayed-build pattern\n",
            "    # (no input shape specified),\n",
            "    # the model doesn't have any weights until the first call\n",
            "    # to a training/evaluation method (since it isn't yet built):\n",
            "    model = Sequential()\n",
            "    model.add(Dense(32))\n",
            "    model.add(Dense(32))\n",
            "    model.weights  # returns []\n",
            "\n",
            "    # Whereas if you specify the input shape, the model gets built continuously\n",
            "    # as you are adding layers:\n",
            "    model = Sequential()\n",
            "    model.add(Dense(32, input_shape=(500,)))\n",
            "    model.add(Dense(32))\n",
            "    model.weights  # returns list of length 4\n",
            "\n",
            "    # When using the delayed-build pattern (no input shape specified), you can\n",
            "    # choose to manually build your model by calling\n",
            "    # `build(batch_input_shape)`:\n",
            "    model = Sequential()\n",
            "    model.add(Dense(32))\n",
            "    model.add(Dense(32))\n",
            "    model.build((None, 500))\n",
            "    model.weights  # returns list of length 4\n",
            "    ```\n",
            "    \n"
          ],
          "name": "stdout"
        }
      ]
    },
    {
      "cell_type": "code",
      "metadata": {
        "id": "gXUdYYAJQIaQ",
        "colab_type": "code",
        "colab": {
          "base_uri": "https://localhost:8080/",
          "height": 0
        },
        "outputId": "83e43652-d676-4e0b-f34c-6952bc9e3b98"
      },
      "source": [
        "print(Dense.__doc__)"
      ],
      "execution_count": 17,
      "outputs": [
        {
          "output_type": "stream",
          "text": [
            "Just your regular densely-connected NN layer.\n",
            "\n",
            "    `Dense` implements the operation:\n",
            "    `output = activation(dot(input, kernel) + bias)`\n",
            "    where `activation` is the element-wise activation function\n",
            "    passed as the `activation` argument, `kernel` is a weights matrix\n",
            "    created by the layer, and `bias` is a bias vector created by the layer\n",
            "    (only applicable if `use_bias` is `True`).\n",
            "\n",
            "    Note: if the input to the layer has a rank greater than 2, then\n",
            "    it is flattened prior to the initial dot product with `kernel`.\n",
            "\n",
            "    # Example\n",
            "\n",
            "    ```python\n",
            "        # as first layer in a sequential model:\n",
            "        model = Sequential()\n",
            "        model.add(Dense(32, input_shape=(16,)))\n",
            "        # now the model will take as input arrays of shape (*, 16)\n",
            "        # and output arrays of shape (*, 32)\n",
            "\n",
            "        # after the first layer, you don't need to specify\n",
            "        # the size of the input anymore:\n",
            "        model.add(Dense(32))\n",
            "    ```\n",
            "\n",
            "    # Arguments\n",
            "        units: Positive integer, dimensionality of the output space.\n",
            "        activation: Activation function to use\n",
            "            (see [activations](../activations.md)).\n",
            "            If you don't specify anything, no activation is applied\n",
            "            (ie. \"linear\" activation: `a(x) = x`).\n",
            "        use_bias: Boolean, whether the layer uses a bias vector.\n",
            "        kernel_initializer: Initializer for the `kernel` weights matrix\n",
            "            (see [initializers](../initializers.md)).\n",
            "        bias_initializer: Initializer for the bias vector\n",
            "            (see [initializers](../initializers.md)).\n",
            "        kernel_regularizer: Regularizer function applied to\n",
            "            the `kernel` weights matrix\n",
            "            (see [regularizer](../regularizers.md)).\n",
            "        bias_regularizer: Regularizer function applied to the bias vector\n",
            "            (see [regularizer](../regularizers.md)).\n",
            "        activity_regularizer: Regularizer function applied to\n",
            "            the output of the layer (its \"activation\").\n",
            "            (see [regularizer](../regularizers.md)).\n",
            "        kernel_constraint: Constraint function applied to\n",
            "            the `kernel` weights matrix\n",
            "            (see [constraints](../constraints.md)).\n",
            "        bias_constraint: Constraint function applied to the bias vector\n",
            "            (see [constraints](../constraints.md)).\n",
            "\n",
            "    # Input shape\n",
            "        nD tensor with shape: `(batch_size, ..., input_dim)`.\n",
            "        The most common situation would be\n",
            "        a 2D input with shape `(batch_size, input_dim)`.\n",
            "\n",
            "    # Output shape\n",
            "        nD tensor with shape: `(batch_size, ..., units)`.\n",
            "        For instance, for a 2D input with shape `(batch_size, input_dim)`,\n",
            "        the output would have shape `(batch_size, units)`.\n",
            "    \n"
          ],
          "name": "stdout"
        }
      ]
    },
    {
      "cell_type": "code",
      "metadata": {
        "id": "iijcfalcQLGI",
        "colab_type": "code",
        "colab": {}
      },
      "source": [
        "model_2_64_flattened = Sequential([\n",
        "    Dense(64, activation='relu', input_shape=(784,)), #input_shape is required for input layer only\n",
        "    Dense(64, activation='relu'),\n",
        "    Dense(10, activation='softmax'), #the conclusion is reached here\n",
        "]) "
      ],
      "execution_count": 18,
      "outputs": []
    },
    {
      "cell_type": "code",
      "metadata": {
        "id": "prCZmRlxQOjI",
        "colab_type": "code",
        "colab": {}
      },
      "source": [
        "model = model_2_64_flattened"
      ],
      "execution_count": 19,
      "outputs": []
    },
    {
      "cell_type": "markdown",
      "metadata": {
        "id": "bAfTuThUQPnK",
        "colab_type": "text"
      },
      "source": [
        "- *ReLU*: Rectified Linear Activation Unit: linear activation with slope and 0 value for negatives: f(-1)=0, f(0)=0, F(1)=1\n",
        "- *Softmax*: takes as input a vector of K real numbers, and normalizes it into a probability distribution consisting of K probabilities proportional to the exponentials of the input numbers. That is, prior to applying softmax, some vector components could be negative, or greater than one; and might not sum to 1; but after applying softmax, each component will be in the interval {\\displaystyle (0,1)}(0,1), and the components will add up to 1, so that they can be interpreted as probabilities. Furthermore, the larger input components will correspond to larger probabilities. Softmax is often used in neural networks, to map the non-normalized output of a network to a probability distribution over predicted output classes.\n",
        "\n",
        "#COMPILE THE MODEL \n",
        "Decide 3 factors: Optimizer, Loss Function, Gradient \n",
        "- accuracy is the simplest metric, (number correctly classified) / (total classified)\n",
        "- why is metrics a list? You can have multiple metrics. See this tutorial for some examples: https://www.tensorflow.org/tutorials/structured_data/imbalanced_data\n",
        "- metrics also accepts other args, like 'MSE' and 'AUC'\n",
        "- 'AUC' demo here: #https://www.tensorflow.org/tutorials/structured_data/imbalanced_data\n",
        "- Categorical crossentropy: https://en.wikipedia.org/wiki/Cross_entropy\n",
        "- In information theory, the cross entropy between two probability distributions and over the same underlying set of events measures the average number of bits needed to identify an event drawn from the set if a coding scheme used for the set is optimized for an estimated probability distribution, rather than the true distribution.\n"
      ]
    },
    {
      "cell_type": "code",
      "metadata": {
        "id": "coblPMsyQdog",
        "colab_type": "code",
        "colab": {
          "base_uri": "https://localhost:8080/",
          "height": 935
        },
        "outputId": "87e7bff3-0f8c-4668-8a65-5a6d5798134f"
      },
      "source": [
        "print(Sequential.compile.__doc__)"
      ],
      "execution_count": 20,
      "outputs": [
        {
          "output_type": "stream",
          "text": [
            "Configures the model for training.\n",
            "\n",
            "        # Arguments\n",
            "            optimizer: String (name of optimizer) or optimizer instance.\n",
            "                See [optimizers](/optimizers).\n",
            "            loss: String (name of objective function) or objective function or\n",
            "                `Loss` instance. See [losses](/losses).\n",
            "                If the model has multiple outputs, you can use a different loss\n",
            "                on each output by passing a dictionary or a list of losses.\n",
            "                The loss value that will be minimized by the model\n",
            "                will then be the sum of all individual losses.\n",
            "            metrics: List of metrics to be evaluated by the model\n",
            "                during training and testing. Typically you will use\n",
            "                `metrics=['accuracy']`. To specify different metrics for different\n",
            "                outputs of a multi-output model, you could also pass a dictionary,\n",
            "                such as\n",
            "                `metrics={'output_a': 'accuracy', 'output_b': ['accuracy', 'mse']}`.\n",
            "                You can also pass a list (len = len(outputs)) of lists of metrics\n",
            "                such as `metrics=[['accuracy'], ['accuracy', 'mse']]` or\n",
            "                `metrics=['accuracy', ['accuracy', 'mse']]`.\n",
            "            loss_weights: Optional list or dictionary specifying scalar\n",
            "                coefficients (Python floats) to weight the loss contributions\n",
            "                of different model outputs.\n",
            "                The loss value that will be minimized by the model\n",
            "                will then be the *weighted sum* of all individual losses,\n",
            "                weighted by the `loss_weights` coefficients.\n",
            "                If a list, it is expected to have a 1:1 mapping\n",
            "                to the model's outputs. If a dict, it is expected to map\n",
            "                output names (strings) to scalar coefficients.\n",
            "            sample_weight_mode: If you need to do timestep-wise\n",
            "                sample weighting (2D weights), set this to `\"temporal\"`.\n",
            "                `None` defaults to sample-wise weights (1D).\n",
            "                If the model has multiple outputs, you can use a different\n",
            "                `sample_weight_mode` on each output by passing a\n",
            "                dictionary or a list of modes.\n",
            "            weighted_metrics: List of metrics to be evaluated and weighted\n",
            "                by sample_weight or class_weight during training and testing.\n",
            "            target_tensors: By default, Keras will create placeholders for the\n",
            "                model's target, which will be fed with the target data during\n",
            "                training. If instead you would like to use your own\n",
            "                target tensors (in turn, Keras will not expect external\n",
            "                Numpy data for these targets at training time), you\n",
            "                can specify them via the `target_tensors` argument. It can be\n",
            "                a single tensor (for a single-output model), a list of tensors,\n",
            "                or a dict mapping output names to target tensors.\n",
            "            **kwargs: When using the Theano/CNTK backends, these arguments\n",
            "                are passed into `K.function`.\n",
            "                When using the TensorFlow backend,\n",
            "                these arguments are passed into `tf.Session.run`.\n",
            "\n",
            "        # Raises\n",
            "            ValueError: In case of invalid arguments for\n",
            "                `optimizer`, `loss`, `metrics` or `sample_weight_mode`.\n",
            "        \n"
          ],
          "name": "stdout"
        }
      ]
    },
    {
      "cell_type": "code",
      "metadata": {
        "id": "WE5IL3HpQsNX",
        "colab_type": "code",
        "colab": {}
      },
      "source": [
        "model.compile( #run the compile() method on the \n",
        "  optimizer='adam',\n",
        "  loss='categorical_crossentropy',\n",
        "  metrics=['accuracy'], \n",
        ")"
      ],
      "execution_count": 21,
      "outputs": []
    },
    {
      "cell_type": "markdown",
      "metadata": {
        "id": "aHII8l3XQwgs",
        "colab_type": "text"
      },
      "source": [
        "# TRAIN THE MODEL\n",
        "The `train_labels` are integer values, but to use a neural network, what we really want is a set of categories for the neural network to predict - it doesn't need to understand the number value '5', it only needs to know that this is the fifth labeled category. So we convert any category set into a categorical array. the to_categorical() array output has a LENGTH equal to the number of labels, and a WIDTH equal to the number of possible values, or number of categories."
      ]
    },
    {
      "cell_type": "code",
      "metadata": {
        "id": "VZ-vPJWCRRE5",
        "colab_type": "code",
        "colab": {}
      },
      "source": [
        "from keras.utils import to_categorical"
      ],
      "execution_count": 22,
      "outputs": []
    },
    {
      "cell_type": "code",
      "metadata": {
        "id": "KQA_qcHAQvQ3",
        "colab_type": "code",
        "colab": {}
      },
      "source": [
        "train_labels[:5] \n",
        "type(train_labels[0]) \n",
        "from keras.utils import to_categorical\n",
        "sample_categorical=to_categorical([2, 0, 1, 1, 1, 1, 0])"
      ],
      "execution_count": 23,
      "outputs": []
    },
    {
      "cell_type": "markdown",
      "metadata": {
        "id": "ZmrTetbKQ3DB",
        "colab_type": "text"
      },
      "source": [
        "This is structured as a numpy n-dimensional array with 7 rows of 3 cells each.\n",
        "\n",
        "Because they're numbers, we can't assign categories directly to this. As an aside, if we were to list incoming booking channels as a training value, we would use this code to convert:"
      ]
    },
    {
      "cell_type": "code",
      "metadata": {
        "id": "g5p1SrlcRGhn",
        "colab_type": "code",
        "colab": {}
      },
      "source": [
        "channel_list=['turnkeyVR.com', 'AirBnB','VRBO','VRBO','VRBO','VRBO','AirBnB']\n",
        "channel_set=list(set(channel_list))\n",
        "channel_set.sort()\n",
        "channel_set #it is now alphabetized in a standardized way\n",
        "channel_dict={} #initialize empty dict \n",
        "channel_index=0"
      ],
      "execution_count": 24,
      "outputs": []
    },
    {
      "cell_type": "code",
      "metadata": {
        "id": "eg6QezlQRJvP",
        "colab_type": "code",
        "colab": {}
      },
      "source": [
        "for channel in channel_set: \n",
        "    channel_dict[channel]=channel_index #channel_dict['AirBnB'=0]\n",
        "    channel_index+=1"
      ],
      "execution_count": 25,
      "outputs": []
    },
    {
      "cell_type": "code",
      "metadata": {
        "id": "pZwwWgSLRMkw",
        "colab_type": "code",
        "colab": {
          "base_uri": "https://localhost:8080/",
          "height": 136
        },
        "outputId": "d809bbd6-9c49-4f88-f58c-eb3ad254ec49"
      },
      "source": [
        "channel_dict #{'AirBnB': 0, 'TurnkeyVR.com': 1, 'VRBO': 2}\n",
        "channel_list_numeric=[channel_dict[s] for s in channel_list]\n",
        "channel_list_numeric\n",
        "to_categorical(channel_list_numeric) #The resulting \n",
        "to_categorical(channel_list_numeric)==sample_categorical #True :) "
      ],
      "execution_count": 26,
      "outputs": [
        {
          "output_type": "execute_result",
          "data": {
            "text/plain": [
              "array([[ True,  True,  True],\n",
              "       [ True,  True,  True],\n",
              "       [ True,  True,  True],\n",
              "       [ True,  True,  True],\n",
              "       [ True,  True,  True],\n",
              "       [ True,  True,  True],\n",
              "       [ True,  True,  True]])"
            ]
          },
          "metadata": {
            "tags": []
          },
          "execution_count": 26
        }
      ]
    },
    {
      "cell_type": "markdown",
      "metadata": {
        "id": "cOhdTuHDRd3i",
        "colab_type": "text"
      },
      "source": [
        "in our test case, we use train_labels list, which is already a set of integers from 0 to 9. Therefore: "
      ]
    },
    {
      "cell_type": "code",
      "metadata": {
        "id": "7Wu1oQ3bRN1H",
        "colab_type": "code",
        "colab": {
          "base_uri": "https://localhost:8080/",
          "height": 34
        },
        "outputId": "190e70e7-77fb-45cc-c4d0-2524153de243"
      },
      "source": [
        "len(to_categorical(train_labels))==len(train_labels) #there is 1 row for each of the 60,000 test \n",
        "len(to_categorical(train_labels)[0])==10 #and in each row there are 10 possible values, and they are 'one hot', no partial classifications here.\n",
        "len(to_categorical(train_labels)[0])==len(list(set(train_labels)))"
      ],
      "execution_count": 27,
      "outputs": [
        {
          "output_type": "execute_result",
          "data": {
            "text/plain": [
              "True"
            ]
          },
          "metadata": {
            "tags": []
          },
          "execution_count": 27
        }
      ]
    },
    {
      "cell_type": "markdown",
      "metadata": {
        "id": "oEPukSSLRjKq",
        "colab_type": "text"
      },
      "source": [
        "Run the code to fit the model:"
      ]
    },
    {
      "cell_type": "code",
      "metadata": {
        "id": "JyRBFNiZRdfX",
        "colab_type": "code",
        "colab": {
          "base_uri": "https://localhost:8080/",
          "height": 1000
        },
        "outputId": "4dd039e0-4afd-4c13-a7ec-edb2eae87caa"
      },
      "source": [
        "print(Sequential.fit.__doc__)"
      ],
      "execution_count": 28,
      "outputs": [
        {
          "output_type": "stream",
          "text": [
            "Trains the model for a fixed number of epochs (iterations on a dataset).\n",
            "\n",
            "        # Arguments\n",
            "            x: Input data. It could be:\n",
            "                - A Numpy array (or array-like), or a list of arrays\n",
            "                  (in case the model has multiple inputs).\n",
            "                - A dict mapping input names to the corresponding\n",
            "                  array/tensors, if the model has named inputs.\n",
            "                - A generator or `keras.utils.Sequence` returning\n",
            "                  `(inputs, targets)` or `(inputs, targets, sample weights)`.\n",
            "                - None (default) if feeding from framework-native\n",
            "                  tensors (e.g. TensorFlow data tensors).\n",
            "            y: Target data. Like the input data `x`,\n",
            "                it could be either Numpy array(s), framework-native tensor(s),\n",
            "                list of Numpy arrays (if the model has multiple outputs) or\n",
            "                None (default) if feeding from framework-native tensors\n",
            "                (e.g. TensorFlow data tensors).\n",
            "                If output layers in the model are named, you can also pass a\n",
            "                dictionary mapping output names to Numpy arrays.\n",
            "                If `x` is a generator, or `keras.utils.Sequence` instance,\n",
            "                `y` should not be specified (since targets will be obtained\n",
            "                from `x`).\n",
            "            batch_size: Integer or `None`.\n",
            "                Number of samples per gradient update.\n",
            "                If unspecified, `batch_size` will default to 32.\n",
            "                Do not specify the `batch_size` if your data is in the\n",
            "                form of symbolic tensors, generators, or `Sequence` instances\n",
            "                (since they generate batches).\n",
            "            epochs: Integer. Number of epochs to train the model.\n",
            "                An epoch is an iteration over the entire `x` and `y`\n",
            "                data provided.\n",
            "                Note that in conjunction with `initial_epoch`,\n",
            "                `epochs` is to be understood as \"final epoch\".\n",
            "                The model is not trained for a number of iterations\n",
            "                given by `epochs`, but merely until the epoch\n",
            "                of index `epochs` is reached.\n",
            "            verbose: Integer. 0, 1, or 2. Verbosity mode.\n",
            "                0 = silent, 1 = progress bar, 2 = one line per epoch.\n",
            "            callbacks: List of `keras.callbacks.Callback` instances.\n",
            "                List of callbacks to apply during training and validation\n",
            "                (if ).\n",
            "                See [callbacks](/callbacks).\n",
            "            validation_split: Float between 0 and 1.\n",
            "                Fraction of the training data to be used as validation data.\n",
            "                The model will set apart this fraction of the training data,\n",
            "                will not train on it, and will evaluate\n",
            "                the loss and any model metrics\n",
            "                on this data at the end of each epoch.\n",
            "                The validation data is selected from the last samples\n",
            "                in the `x` and `y` data provided, before shuffling.\n",
            "                This argument is not supported when `x` is a generator or\n",
            "                `Sequence` instance.\n",
            "            validation_data: Data on which to evaluate\n",
            "                the loss and any model metrics at the end of each epoch.\n",
            "                The model will not be trained on this data.\n",
            "                `validation_data` will override `validation_split`.\n",
            "                `validation_data` could be:\n",
            "                    - tuple `(x_val, y_val)` of Numpy arrays or tensors\n",
            "                    - tuple `(x_val, y_val, val_sample_weights)` of Numpy arrays\n",
            "                    - dataset or a dataset iterator\n",
            "                For the first two cases, `batch_size` must be provided.\n",
            "                For the last case, `validation_steps` must be provided.\n",
            "            shuffle: Boolean (whether to shuffle the training data\n",
            "                before each epoch) or str (for 'batch').\n",
            "                'batch' is a special option for dealing with the\n",
            "                limitations of HDF5 data; it shuffles in batch-sized chunks.\n",
            "                Has no effect when `steps_per_epoch` is not `None`.\n",
            "            class_weight: Optional dictionary mapping class indices (integers)\n",
            "                to a weight (float) value, used for weighting the loss function\n",
            "                (during training only).\n",
            "                This can be useful to tell the model to\n",
            "                \"pay more attention\" to samples from\n",
            "                an under-represented class.\n",
            "            sample_weight: Optional Numpy array of weights for\n",
            "                the training samples, used for weighting the loss function\n",
            "                (during training only). You can either pass a flat (1D)\n",
            "                Numpy array with the same length as the input samples\n",
            "                (1:1 mapping between weights and samples),\n",
            "                or in the case of temporal data,\n",
            "                you can pass a 2D array with shape\n",
            "                `(samples, sequence_length)`,\n",
            "                to apply a different weight to every timestep of every sample.\n",
            "                In this case you should make sure to specify\n",
            "                `sample_weight_mode=\"temporal\"` in `compile()`. This argument\n",
            "                is not supported when `x` generator, or `Sequence` instance,\n",
            "                instead provide the sample_weights as the third element of `x`.\n",
            "            initial_epoch: Integer.\n",
            "                Epoch at which to start training\n",
            "                (useful for resuming a previous training run).\n",
            "            steps_per_epoch: Integer or `None`.\n",
            "                Total number of steps (batches of samples)\n",
            "                before declaring one epoch finished and starting the\n",
            "                next epoch. When training with input tensors such as\n",
            "                TensorFlow data tensors, the default `None` is equal to\n",
            "                the number of samples in your dataset divided by\n",
            "                the batch size, or 1 if that cannot be determined.\n",
            "            validation_steps: Only relevant if `steps_per_epoch`\n",
            "                is specified. Total number of steps (batches of samples)\n",
            "                to validate before stopping.\n",
            "            validation_steps: Only relevant if `validation_data` is provided\n",
            "                and is a generator. Total number of steps (batches of samples)\n",
            "                to draw before stopping when performing validation at the end\n",
            "                of every epoch.\n",
            "            validation_freq: Only relevant if validation data is provided. Integer\n",
            "                or list/tuple/set. If an integer, specifies how many training\n",
            "                epochs to run before a new validation run is performed, e.g.\n",
            "                `validation_freq=2` runs validation every 2 epochs. If a list,\n",
            "                tuple, or set, specifies the epochs on which to run validation,\n",
            "                e.g. `validation_freq=[1, 2, 10]` runs validation at the end\n",
            "                of the 1st, 2nd, and 10th epochs.\n",
            "            max_queue_size: Integer. Used for generator or `keras.utils.Sequence`\n",
            "                input only. Maximum size for the generator queue.\n",
            "                If unspecified, `max_queue_size` will default to 10.\n",
            "            workers: Integer. Used for generator or `keras.utils.Sequence` input\n",
            "                only. Maximum number of processes to spin up\n",
            "                when using process-based threading. If unspecified, `workers`\n",
            "                will default to 1. If 0, will execute the generator on the main\n",
            "                thread.\n",
            "            use_multiprocessing: Boolean. Used for generator or\n",
            "                `keras.utils.Sequence` input only. If `True`, use process-based\n",
            "                threading. If unspecified, `use_multiprocessing` will default to\n",
            "                `False`. Note that because this implementation relies on\n",
            "                multiprocessing, you should not pass non-picklable arguments to\n",
            "                the generator as they can't be passed easily to children processes.\n",
            "            **kwargs: Used for backwards compatibility.\n",
            "\n",
            "        # Returns\n",
            "            A `History` object. Its `History.history` attribute is\n",
            "            a record of training loss values and metrics values\n",
            "            at successive epochs, as well as validation loss values\n",
            "            and validation metrics values (if applicable).\n",
            "\n",
            "        # Raises\n",
            "            RuntimeError: If the model was never compiled.\n",
            "            ValueError: In case of mismatch between the provided input data\n",
            "                and what the model expects.\n",
            "        \n"
          ],
          "name": "stdout"
        }
      ]
    },
    {
      "cell_type": "code",
      "metadata": {
        "id": "MZv3ZCncRlrY",
        "colab_type": "code",
        "colab": {
          "base_uri": "https://localhost:8080/",
          "height": 204
        },
        "outputId": "fcce4040-e2d0-4549-fe1b-4ffbb091bcc5"
      },
      "source": [
        "model.fit(\n",
        "  x=f_train_images, #inputs to train on \n",
        "  y=to_categorical(train_labels), #correct outputs to validate accuracy by \n",
        "  epochs=5, #train for 5 rounds through the data \n",
        "  batch_size=32, #number of samples per gradient update; default is 32 \n",
        ")"
      ],
      "execution_count": 29,
      "outputs": [
        {
          "output_type": "stream",
          "text": [
            "Epoch 1/5\n",
            "60000/60000 [==============================] - 4s 67us/step - loss: 0.3573 - accuracy: 0.8935\n",
            "Epoch 2/5\n",
            "60000/60000 [==============================] - 4s 59us/step - loss: 0.1839 - accuracy: 0.9440\n",
            "Epoch 3/5\n",
            "60000/60000 [==============================] - 4s 63us/step - loss: 0.1447 - accuracy: 0.9563\n",
            "Epoch 4/5\n",
            "60000/60000 [==============================] - 3s 58us/step - loss: 0.1215 - accuracy: 0.9623\n",
            "Epoch 5/5\n",
            "60000/60000 [==============================] - 3s 56us/step - loss: 0.1042 - accuracy: 0.9670\n"
          ],
          "name": "stdout"
        },
        {
          "output_type": "execute_result",
          "data": {
            "text/plain": [
              "<keras.callbacks.callbacks.History at 0x7f4042cb6b00>"
            ]
          },
          "metadata": {
            "tags": []
          },
          "execution_count": 29
        }
      ]
    },
    {
      "cell_type": "markdown",
      "metadata": {
        "id": "VYdbFm8XRqI6",
        "colab_type": "text"
      },
      "source": [
        "###TEST THE MODEL \n",
        " you should have a separate set of training data that wasn't in your initial training set, this is the Validation dataset. If your neural network is complex  enough (and your number of samples is small), it's possible for it to just learn every example specifically. This is 'overfitting', and it's when your model has high accuracy in the training dataset and low accuracy in the validation dataset. \n"
      ]
    },
    {
      "cell_type": "code",
      "metadata": {
        "id": "NiRjJ59DRnmp",
        "colab_type": "code",
        "colab": {
          "base_uri": "https://localhost:8080/",
          "height": 0
        },
        "outputId": "4127ba0e-69ab-4b08-ab85-c0f719249f75"
      },
      "source": [
        "model.evaluate(\n",
        "  x=f_test_images,\n",
        "  y=to_categorical(test_labels)\n",
        ") #[0.11067571075819432, 0.9656999707221985]\n"
      ],
      "execution_count": 30,
      "outputs": [
        {
          "output_type": "stream",
          "text": [
            "10000/10000 [==============================] - 0s 27us/step\n"
          ],
          "name": "stdout"
        },
        {
          "output_type": "execute_result",
          "data": {
            "text/plain": [
              "[0.10911127291172742, 0.9664999842643738]"
            ]
          },
          "metadata": {
            "tags": []
          },
          "execution_count": 30
        }
      ]
    },
    {
      "cell_type": "markdown",
      "metadata": {
        "id": "uKY-4n61RxFK",
        "colab_type": "text"
      },
      "source": [
        "This does not require epochs or batch size.\n",
        "evaluate() returns an array containing the test loss followed by any metrics we specified. Thus, our model achieves a 0.108 test loss and 96.5% test accuracy!\n",
        "This simple neural network is able to read hand-written numbers.\n",
        "\n",
        "###USE THE MODEL \n",
        "save it. The save_weights() method accepts a path for your file save location. "
      ]
    },
    {
      "cell_type": "code",
      "metadata": {
        "id": "lqh7xzb-RwGQ",
        "colab_type": "code",
        "colab": {
          "base_uri": "https://localhost:8080/",
          "height": 0
        },
        "outputId": "4a7ff9ce-0616-433a-99c6-1af0926051e7"
      },
      "source": [
        "print(Sequential.save_weights.__doc__)\n",
        "weight_path='./model.h5'\n",
        "model.save_weights(weight_path) #saves it in current working directory, the file name will be model.h5\n",
        "model.load_weights(weight_path) #you could start from here next time if you wanted to re-use this to read hand-written numbers later \n"
      ],
      "execution_count": 31,
      "outputs": [
        {
          "output_type": "stream",
          "text": [
            "Dumps all layer weights to a HDF5 file.\n",
            "\n",
            "        The weight file has:\n",
            "            - `layer_names` (attribute), a list of strings\n",
            "                (ordered names of model layers).\n",
            "            - For every layer, a `group` named `layer.name`\n",
            "                - For every such layer group, a group attribute `weight_names`,\n",
            "                    a list of strings\n",
            "                    (ordered names of weights tensor of the layer).\n",
            "                - For every weight in the layer, a dataset\n",
            "                    storing the weight value, named after the weight tensor.\n",
            "\n",
            "        # Arguments\n",
            "            filepath: String, path to the file to save the weights to.\n",
            "            overwrite: Whether to silently overwrite any existing file at the\n",
            "                target location, or provide the user with a manual prompt.\n",
            "\n",
            "        # Raises\n",
            "            ImportError: If h5py is not available.\n",
            "        \n"
          ],
          "name": "stdout"
        }
      ]
    },
    {
      "cell_type": "code",
      "metadata": {
        "id": "EirndropR8NP",
        "colab_type": "code",
        "colab": {}
      },
      "source": [
        "predictions = model.predict(f_test_images[:5])\n",
        "predictions #gives an array of probabilities for each. These are small, but the highest probability is the one with e-01. We can simplify printing them using argmax:\n",
        "prediction_list=np.argmax(predictions, axis=1) # [7, 2, 1, 0, 4]"
      ],
      "execution_count": 32,
      "outputs": []
    },
    {
      "cell_type": "markdown",
      "metadata": {
        "id": "MNVWJImdSCtB",
        "colab_type": "text"
      },
      "source": [
        "Finally, produce a nice run alongside each other, showing the digit, the expected label, and our predictions :)"
      ]
    },
    {
      "cell_type": "code",
      "metadata": {
        "id": "8sjTaPuRSBVP",
        "colab_type": "code",
        "colab": {
          "base_uri": "https://localhost:8080/",
          "height": 0
        },
        "outputId": "9f797608-f02d-4408-e61d-ebf7405a19b2"
      },
      "source": [
        "for index in range(0,5):\n",
        "    print('Our model predicted:\\t',prediction_list[index])\n",
        "    print('The data was labeled:\\t',test_labels[index])\n",
        "    print_mnist_image(test_images[index])\n"
      ],
      "execution_count": 33,
      "outputs": [
        {
          "output_type": "stream",
          "text": [
            "Our model predicted:\t 7\n",
            "The data was labeled:\t 7\n"
          ],
          "name": "stdout"
        },
        {
          "output_type": "display_data",
          "data": {
            "image/png": "[encoded data removed]",
            "text/plain": [
              "<Figure size 432x288 with 1 Axes>"
            ]
          },
          "metadata": {
            "tags": [],
            "needs_background": "light"
          }
        },
        {
          "output_type": "stream",
          "text": [
            "Our model predicted:\t 2\n",
            "The data was labeled:\t 2\n"
          ],
          "name": "stdout"
        },
        {
          "output_type": "display_data",
          "data": {
            "image/png": "[encoded data removed]",
            "text/plain": [
              "<Figure size 432x288 with 1 Axes>"
            ]
          },
          "metadata": {
            "tags": [],
            "needs_background": "light"
          }
        },
        {
          "output_type": "stream",
          "text": [
            "Our model predicted:\t 1\n",
            "The data was labeled:\t 1\n"
          ],
          "name": "stdout"
        },
        {
          "output_type": "display_data",
          "data": {
            "image/png": "[encoded data removed]",
            "text/plain": [
              "<Figure size 432x288 with 1 Axes>"
            ]
          },
          "metadata": {
            "tags": [],
            "needs_background": "light"
          }
        },
        {
          "output_type": "stream",
          "text": [
            "Our model predicted:\t 0\n",
            "The data was labeled:\t 0\n"
          ],
          "name": "stdout"
        },
        {
          "output_type": "display_data",
          "data": {
            "image/png": "[encoded data removed]",
            "text/plain": [
              "<Figure size 432x288 with 1 Axes>"
            ]
          },
          "metadata": {
            "tags": [],
            "needs_background": "light"
          }
        },
        {
          "output_type": "stream",
          "text": [
            "Our model predicted:\t 4\n",
            "The data was labeled:\t 4\n"
          ],
          "name": "stdout"
        },
        {
          "output_type": "display_data",
          "data": {
            "image/png": "[encoded data removed]",
            "text/plain": [
              "<Figure size 432x288 with 1 Axes>"
            ]
          },
          "metadata": {
            "tags": [],
            "needs_background": "light"
          }
        }
      ]
    }
  ]
}